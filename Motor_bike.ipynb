{
  "cells": [
    {
      "cell_type": "code",
      "execution_count": 3,
      "metadata": {
        "id": "TPwm0Cxiowil"
      },
      "outputs": [],
      "source": [
        "import pandas as pd\n",
        "import numpy as np\n",
        "import matplotlib.pyplot as plt\n",
        "import seaborn as sns\n",
        "from scipy import stats\n",
        "\n",
        "%matplotlib inline"
      ]
    },
    {
      "cell_type": "code",
      "execution_count": 4,
      "metadata": {
        "id": "iKipVCOcowin"
      },
      "outputs": [],
      "source": [
        "df = pd.read_csv(\"europe-motorbikes-zenrows.csv\")"
      ]
    },
    {
      "cell_type": "code",
      "execution_count": 5,
      "metadata": {
        "id": "i0s6deJGowio"
      },
      "outputs": [
        {
          "data": {
            "text/html": [
              "<div>\n",
              "<style scoped>\n",
              "    .dataframe tbody tr th:only-of-type {\n",
              "        vertical-align: middle;\n",
              "    }\n",
              "\n",
              "    .dataframe tbody tr th {\n",
              "        vertical-align: top;\n",
              "    }\n",
              "\n",
              "    .dataframe thead th {\n",
              "        text-align: right;\n",
              "    }\n",
              "</style>\n",
              "<table border=\"1\" class=\"dataframe\">\n",
              "  <thead>\n",
              "    <tr style=\"text-align: right;\">\n",
              "      <th></th>\n",
              "      <th>price</th>\n",
              "      <th>mileage</th>\n",
              "      <th>power</th>\n",
              "      <th>make_model</th>\n",
              "      <th>date</th>\n",
              "      <th>fuel</th>\n",
              "      <th>gear</th>\n",
              "      <th>offer_type</th>\n",
              "      <th>version</th>\n",
              "      <th>link</th>\n",
              "    </tr>\n",
              "  </thead>\n",
              "  <tbody>\n",
              "    <tr>\n",
              "      <th>0</th>\n",
              "      <td>23990</td>\n",
              "      <td>150</td>\n",
              "      <td>218.0</td>\n",
              "      <td>Honda</td>\n",
              "      <td>03/2020</td>\n",
              "      <td>Gasoline</td>\n",
              "      <td>Manual</td>\n",
              "      <td>Demonstration</td>\n",
              "      <td>CBR1000RR-R Fireblade SP</td>\n",
              "      <td>/offers/honda-others-cbr1000rr-r-fireblade-sp-...</td>\n",
              "    </tr>\n",
              "    <tr>\n",
              "      <th>1</th>\n",
              "      <td>7500</td>\n",
              "      <td>2871</td>\n",
              "      <td>90.0</td>\n",
              "      <td>BMW F 800 GT</td>\n",
              "      <td>09/2018</td>\n",
              "      <td>Gasoline</td>\n",
              "      <td>Manual</td>\n",
              "      <td>Used</td>\n",
              "      <td>NaN</td>\n",
              "      <td>/offers/bmw-f-800-gt-gasoline-white-f65273c6-6...</td>\n",
              "    </tr>\n",
              "    <tr>\n",
              "      <th>2</th>\n",
              "      <td>800</td>\n",
              "      <td>1700</td>\n",
              "      <td>3.0</td>\n",
              "      <td>Nova Motors Retro Star</td>\n",
              "      <td>10/2019</td>\n",
              "      <td>Gasoline</td>\n",
              "      <td>NaN</td>\n",
              "      <td>Used</td>\n",
              "      <td>NaN</td>\n",
              "      <td>/offers/nova-motors-retro-star-gasoline-red-f8...</td>\n",
              "    </tr>\n",
              "    <tr>\n",
              "      <th>3</th>\n",
              "      <td>14990</td>\n",
              "      <td>24345</td>\n",
              "      <td>NaN</td>\n",
              "      <td>Aprilia RSV4</td>\n",
              "      <td>03/2016</td>\n",
              "      <td>Gasoline</td>\n",
              "      <td>NaN</td>\n",
              "      <td>Used</td>\n",
              "      <td>RF</td>\n",
              "      <td>/offers/aprilia-rsv4-rf-gasoline-silver-1b51fe...</td>\n",
              "    </tr>\n",
              "    <tr>\n",
              "      <th>4</th>\n",
              "      <td>6200</td>\n",
              "      <td>25000</td>\n",
              "      <td>128.0</td>\n",
              "      <td>Kawasaki Ninja ZX-6R</td>\n",
              "      <td>08/2009</td>\n",
              "      <td>Gasoline</td>\n",
              "      <td>NaN</td>\n",
              "      <td>Used</td>\n",
              "      <td>NaN</td>\n",
              "      <td>/offers/kawasaki-ninja-zx-6r-gasoline-blue-2f8...</td>\n",
              "    </tr>\n",
              "  </tbody>\n",
              "</table>\n",
              "</div>"
            ],
            "text/plain": [
              "   price  mileage  power              make_model     date      fuel    gear  \\\n",
              "0  23990      150  218.0                   Honda  03/2020  Gasoline  Manual   \n",
              "1   7500     2871   90.0            BMW F 800 GT  09/2018  Gasoline  Manual   \n",
              "2    800     1700    3.0  Nova Motors Retro Star  10/2019  Gasoline     NaN   \n",
              "3  14990    24345    NaN            Aprilia RSV4  03/2016  Gasoline     NaN   \n",
              "4   6200    25000  128.0    Kawasaki Ninja ZX-6R  08/2009  Gasoline     NaN   \n",
              "\n",
              "      offer_type                   version  \\\n",
              "0  Demonstration  CBR1000RR-R Fireblade SP   \n",
              "1           Used                       NaN   \n",
              "2           Used                       NaN   \n",
              "3           Used                        RF   \n",
              "4           Used                       NaN   \n",
              "\n",
              "                                                link  \n",
              "0  /offers/honda-others-cbr1000rr-r-fireblade-sp-...  \n",
              "1  /offers/bmw-f-800-gt-gasoline-white-f65273c6-6...  \n",
              "2  /offers/nova-motors-retro-star-gasoline-red-f8...  \n",
              "3  /offers/aprilia-rsv4-rf-gasoline-silver-1b51fe...  \n",
              "4  /offers/kawasaki-ninja-zx-6r-gasoline-blue-2f8...  "
            ]
          },
          "execution_count": 5,
          "metadata": {},
          "output_type": "execute_result"
        }
      ],
      "source": [
        "df.head()"
      ]
    },
    {
      "cell_type": "code",
      "execution_count": 6,
      "metadata": {
        "id": "924W2B9dowio"
      },
      "outputs": [
        {
          "name": "stdout",
          "output_type": "stream",
          "text": [
            "<class 'pandas.core.frame.DataFrame'>\n",
            "RangeIndex: 34917 entries, 0 to 34916\n",
            "Data columns (total 10 columns):\n",
            " #   Column      Non-Null Count  Dtype  \n",
            "---  ------      --------------  -----  \n",
            " 0   price       34917 non-null  int64  \n",
            " 1   mileage     34917 non-null  int64  \n",
            " 2   power       28598 non-null  float64\n",
            " 3   make_model  34917 non-null  object \n",
            " 4   date        34917 non-null  object \n",
            " 5   fuel        31727 non-null  object \n",
            " 6   gear        12847 non-null  object \n",
            " 7   offer_type  34917 non-null  object \n",
            " 8   version     17413 non-null  object \n",
            " 9   link        34917 non-null  object \n",
            "dtypes: float64(1), int64(2), object(7)\n",
            "memory usage: 2.7+ MB\n"
          ]
        }
      ],
      "source": [
        "df.info()"
      ]
    },
    {
      "cell_type": "code",
      "execution_count": 7,
      "metadata": {
        "id": "1rmxuU5nowip"
      },
      "outputs": [
        {
          "data": {
            "text/plain": [
              "(34917, 10)"
            ]
          },
          "execution_count": 7,
          "metadata": {},
          "output_type": "execute_result"
        }
      ],
      "source": [
        "df.shape"
      ]
    },
    {
      "cell_type": "code",
      "execution_count": 8,
      "metadata": {
        "id": "VEzJ7uuVowip"
      },
      "outputs": [],
      "source": [
        "pd.set_option(\"display.float_format\",\"{:.2f}\".format)"
      ]
    },
    {
      "cell_type": "code",
      "execution_count": 9,
      "metadata": {
        "id": "DxfFK0sCowip"
      },
      "outputs": [
        {
          "data": {
            "text/html": [
              "<div>\n",
              "<style scoped>\n",
              "    .dataframe tbody tr th:only-of-type {\n",
              "        vertical-align: middle;\n",
              "    }\n",
              "\n",
              "    .dataframe tbody tr th {\n",
              "        vertical-align: top;\n",
              "    }\n",
              "\n",
              "    .dataframe thead th {\n",
              "        text-align: right;\n",
              "    }\n",
              "</style>\n",
              "<table border=\"1\" class=\"dataframe\">\n",
              "  <thead>\n",
              "    <tr style=\"text-align: right;\">\n",
              "      <th></th>\n",
              "      <th>price</th>\n",
              "      <th>mileage</th>\n",
              "      <th>power</th>\n",
              "    </tr>\n",
              "  </thead>\n",
              "  <tbody>\n",
              "    <tr>\n",
              "      <th>count</th>\n",
              "      <td>34917.00</td>\n",
              "      <td>34917.00</td>\n",
              "      <td>28598.00</td>\n",
              "    </tr>\n",
              "    <tr>\n",
              "      <th>mean</th>\n",
              "      <td>45685.32</td>\n",
              "      <td>21831.75</td>\n",
              "      <td>206.16</td>\n",
              "    </tr>\n",
              "    <tr>\n",
              "      <th>std</th>\n",
              "      <td>4850120.19</td>\n",
              "      <td>205942.09</td>\n",
              "      <td>9371.43</td>\n",
              "    </tr>\n",
              "    <tr>\n",
              "      <th>min</th>\n",
              "      <td>1.00</td>\n",
              "      <td>0.00</td>\n",
              "      <td>1.00</td>\n",
              "    </tr>\n",
              "    <tr>\n",
              "      <th>25%</th>\n",
              "      <td>6999.00</td>\n",
              "      <td>2932.00</td>\n",
              "      <td>50.00</td>\n",
              "    </tr>\n",
              "    <tr>\n",
              "      <th>50%</th>\n",
              "      <td>9920.00</td>\n",
              "      <td>11000.00</td>\n",
              "      <td>90.00</td>\n",
              "    </tr>\n",
              "    <tr>\n",
              "      <th>75%</th>\n",
              "      <td>12590.00</td>\n",
              "      <td>25000.00</td>\n",
              "      <td>125.00</td>\n",
              "    </tr>\n",
              "    <tr>\n",
              "      <th>max</th>\n",
              "      <td>888888888.00</td>\n",
              "      <td>9999999.00</td>\n",
              "      <td>913595.00</td>\n",
              "    </tr>\n",
              "  </tbody>\n",
              "</table>\n",
              "</div>"
            ],
            "text/plain": [
              "             price    mileage     power\n",
              "count     34917.00   34917.00  28598.00\n",
              "mean      45685.32   21831.75    206.16\n",
              "std     4850120.19  205942.09   9371.43\n",
              "min           1.00       0.00      1.00\n",
              "25%        6999.00    2932.00     50.00\n",
              "50%        9920.00   11000.00     90.00\n",
              "75%       12590.00   25000.00    125.00\n",
              "max   888888888.00 9999999.00 913595.00"
            ]
          },
          "execution_count": 9,
          "metadata": {},
          "output_type": "execute_result"
        }
      ],
      "source": [
        "df.describe()"
      ]
    },
    {
      "cell_type": "code",
      "execution_count": 10,
      "metadata": {
        "id": "PvslepY9owip"
      },
      "outputs": [
        {
          "data": {
            "text/plain": [
              "price             0\n",
              "mileage           0\n",
              "power          6319\n",
              "make_model        0\n",
              "date              0\n",
              "fuel           3190\n",
              "gear          22070\n",
              "offer_type        0\n",
              "version       17504\n",
              "link              0\n",
              "dtype: int64"
            ]
          },
          "execution_count": 10,
          "metadata": {},
          "output_type": "execute_result"
        }
      ],
      "source": [
        "df.isnull().sum()"
      ]
    },
    {
      "cell_type": "code",
      "execution_count": 11,
      "metadata": {
        "id": "hQ-c44Q5owip"
      },
      "outputs": [
        {
          "data": {
            "text/plain": [
              "5832"
            ]
          },
          "execution_count": 11,
          "metadata": {},
          "output_type": "execute_result"
        }
      ],
      "source": [
        "df.duplicated().sum()"
      ]
    },
    {
      "cell_type": "code",
      "execution_count": 12,
      "metadata": {
        "id": "AelwT3NJowiq"
      },
      "outputs": [],
      "source": [
        "df.drop_duplicates(inplace= True)"
      ]
    },
    {
      "cell_type": "code",
      "execution_count": 13,
      "metadata": {
        "id": "7D-YzfJ3owiq"
      },
      "outputs": [
        {
          "data": {
            "text/plain": [
              "0"
            ]
          },
          "execution_count": 13,
          "metadata": {},
          "output_type": "execute_result"
        }
      ],
      "source": [
        "df.duplicated().sum()"
      ]
    },
    {
      "cell_type": "code",
      "execution_count": 14,
      "metadata": {
        "id": "RbN-fQa9owiq"
      },
      "outputs": [
        {
          "data": {
            "image/png": "[encoded data removed]",
            "text/plain": [
              "<Figure size 640x480 with 1 Axes>"
            ]
          },
          "metadata": {},
          "output_type": "display_data"
        }
      ],
      "source": [
        "sns.countplot(x=\"fuel\", data = df)\n",
        "plt.xlabel(\"Fuel Type\")\n",
        "plt.ylabel(\"Count\")\n",
        "plt.title(\"Count of Motor Bikes by Fuel Type\")\n",
        "plt.xticks(rotation =45)\n",
        "plt.show()\n"
      ]
    },
    {
      "cell_type": "code",
      "execution_count": 15,
      "metadata": {
        "id": "g6A-wvgFowiq"
      },
      "outputs": [],
      "source": [
        "df['fuel'] =df['fuel'].fillna('Gasoline')\n",
        "df['power']=df['power'].replace(np.nan,0)"
      ]
    },
    {
      "cell_type": "code",
      "execution_count": 16,
      "metadata": {
        "id": "Fu_QAI2Oowir"
      },
      "outputs": [
        {
          "data": {
            "text/plain": [
              "price             0\n",
              "mileage           0\n",
              "power             0\n",
              "make_model        0\n",
              "date              0\n",
              "fuel              0\n",
              "gear          18294\n",
              "offer_type        0\n",
              "version       14402\n",
              "link              0\n",
              "dtype: int64"
            ]
          },
          "execution_count": 16,
          "metadata": {},
          "output_type": "execute_result"
        }
      ],
      "source": [
        "df.isna().sum()"
      ]
    },
    {
      "cell_type": "code",
      "execution_count": 17,
      "metadata": {
        "id": "BKiKoQMRowir"
      },
      "outputs": [
        {
          "data": {
            "text/plain": [
              "<AxesSubplot: xlabel='gear', ylabel='count'>"
            ]
          },
          "execution_count": 17,
          "metadata": {},
          "output_type": "execute_result"
        },
        {
          "data": {
            "image/png": "[encoded data removed]",
            "text/plain": [
              "<Figure size 640x480 with 1 Axes>"
            ]
          },
          "metadata": {},
          "output_type": "display_data"
        }
      ],
      "source": [
        "sns.countplot(x='gear',data=df)"
      ]
    },
    {
      "cell_type": "code",
      "execution_count": 18,
      "metadata": {
        "id": "Ul313KLjowir"
      },
      "outputs": [
        {
          "data": {
            "text/plain": [
              "price             0\n",
              "mileage           0\n",
              "power             0\n",
              "make_model        0\n",
              "date              0\n",
              "fuel              0\n",
              "gear              0\n",
              "offer_type        0\n",
              "version       14402\n",
              "link              0\n",
              "dtype: int64"
            ]
          },
          "execution_count": 18,
          "metadata": {},
          "output_type": "execute_result"
        }
      ],
      "source": [
        "df['gear']=df['gear'].fillna('Manual')\n",
        "df.isna().sum()"
      ]
    },
    {
      "cell_type": "code",
      "execution_count": 19,
      "metadata": {
        "id": "kLCbLVVpowir"
      },
      "outputs": [
        {
          "data": {
            "text/plain": [
              "0        CBR1000RR-R Fireblade SP\n",
              "1                            None\n",
              "2                            None\n",
              "3                              RF\n",
              "4                            None\n",
              "                   ...           \n",
              "34911                        None\n",
              "34912                 R 1200RT LC\n",
              "34913                        None\n",
              "34915          Black mit Garantie\n",
              "34916                        None\n",
              "Name: version, Length: 29085, dtype: object"
            ]
          },
          "execution_count": 19,
          "metadata": {},
          "output_type": "execute_result"
        }
      ],
      "source": [
        "df['version']=df['version'].replace(np.nan,'None')\n",
        "df['version']"
      ]
    },
    {
      "cell_type": "code",
      "execution_count": 20,
      "metadata": {
        "id": "uOJ3pg-jowir"
      },
      "outputs": [
        {
          "data": {
            "text/plain": [
              "gear\n",
              "Automatic         75.86\n",
              "Manual           119.82\n",
              "Semi-automatic   126.39\n",
              "Name: power, dtype: float64"
            ]
          },
          "execution_count": 20,
          "metadata": {},
          "output_type": "execute_result"
        }
      ],
      "source": [
        "gear_power= df.groupby(\"gear\")[\"power\"].mean()\n",
        "gear_power"
      ]
    },
    {
      "cell_type": "code",
      "execution_count": 22,
      "metadata": {
        "id": "J3bOHpaCowir"
      },
      "outputs": [
        {
          "data": {
            "text/html": [
              "<div>\n",
              "<style scoped>\n",
              "    .dataframe tbody tr th:only-of-type {\n",
              "        vertical-align: middle;\n",
              "    }\n",
              "\n",
              "    .dataframe tbody tr th {\n",
              "        vertical-align: top;\n",
              "    }\n",
              "\n",
              "    .dataframe thead th {\n",
              "        text-align: right;\n",
              "    }\n",
              "</style>\n",
              "<table border=\"1\" class=\"dataframe\">\n",
              "  <thead>\n",
              "    <tr style=\"text-align: right;\">\n",
              "      <th></th>\n",
              "      <th>price</th>\n",
              "      <th>mileage</th>\n",
              "      <th>power</th>\n",
              "      <th>make_model</th>\n",
              "      <th>date</th>\n",
              "      <th>fuel</th>\n",
              "      <th>gear</th>\n",
              "      <th>offer_type</th>\n",
              "      <th>version</th>\n",
              "      <th>link</th>\n",
              "    </tr>\n",
              "  </thead>\n",
              "  <tbody>\n",
              "    <tr>\n",
              "      <th>23654</th>\n",
              "      <td>888888888</td>\n",
              "      <td>1196</td>\n",
              "      <td>10.00</td>\n",
              "      <td>SYM SYMNH X</td>\n",
              "      <td>08/2019</td>\n",
              "      <td>Gasoline</td>\n",
              "      <td>Manual</td>\n",
              "      <td>Used</td>\n",
              "      <td>!!! VENDUE !!! indisponible</td>\n",
              "      <td>/offers/sym-symnh-x-vendue-indisponible-gasoli...</td>\n",
              "    </tr>\n",
              "    <tr>\n",
              "      <th>20925</th>\n",
              "      <td>123456789</td>\n",
              "      <td>24000</td>\n",
              "      <td>101.00</td>\n",
              "      <td>Buell XB 12</td>\n",
              "      <td>06/2009</td>\n",
              "      <td>Gasoline</td>\n",
              "      <td>Manual</td>\n",
              "      <td>Used</td>\n",
              "      <td>None</td>\n",
              "      <td>/offers/buell-xb-12-gasoline-red-6bd3eec5-449d...</td>\n",
              "    </tr>\n",
              "    <tr>\n",
              "      <th>6857</th>\n",
              "      <td>123456789</td>\n",
              "      <td>24</td>\n",
              "      <td>175.00</td>\n",
              "      <td>EBR RS</td>\n",
              "      <td>11/2011</td>\n",
              "      <td>Gasoline</td>\n",
              "      <td>Manual</td>\n",
              "      <td>Used</td>\n",
              "      <td>EBR 1190 RS Nieuw !</td>\n",
              "      <td>/offers/ebr-rs-ebr-1190-rs-nieuw-gasoline-blac...</td>\n",
              "    </tr>\n",
              "    <tr>\n",
              "      <th>28952</th>\n",
              "      <td>9999999</td>\n",
              "      <td>9999999</td>\n",
              "      <td>12.00</td>\n",
              "      <td>Harley-Davidson Custom Bike</td>\n",
              "      <td>02/2018</td>\n",
              "      <td>Gasoline</td>\n",
              "      <td>Manual</td>\n",
              "      <td>Used</td>\n",
              "      <td>None</td>\n",
              "      <td>/offers/harley-davidson-custom-bike-gasoline-g...</td>\n",
              "    </tr>\n",
              "    <tr>\n",
              "      <th>27266</th>\n",
              "      <td>9999999</td>\n",
              "      <td>9999999</td>\n",
              "      <td>1358.00</td>\n",
              "      <td>Harley-Davidson Bad Boy</td>\n",
              "      <td>01/2020</td>\n",
              "      <td>Diesel</td>\n",
              "      <td>Manual</td>\n",
              "      <td>Used</td>\n",
              "      <td>test big images</td>\n",
              "      <td>/offers/harley-davidson-bad-boy-test-big-image...</td>\n",
              "    </tr>\n",
              "    <tr>\n",
              "      <th>...</th>\n",
              "      <td>...</td>\n",
              "      <td>...</td>\n",
              "      <td>...</td>\n",
              "      <td>...</td>\n",
              "      <td>...</td>\n",
              "      <td>...</td>\n",
              "      <td>...</td>\n",
              "      <td>...</td>\n",
              "      <td>...</td>\n",
              "      <td>...</td>\n",
              "    </tr>\n",
              "    <tr>\n",
              "      <th>34899</th>\n",
              "      <td>50</td>\n",
              "      <td>390</td>\n",
              "      <td>1.00</td>\n",
              "      <td>Kymco Like 50</td>\n",
              "      <td>06/2011</td>\n",
              "      <td>Gasoline</td>\n",
              "      <td>Manual</td>\n",
              "      <td>Used</td>\n",
              "      <td>None</td>\n",
              "      <td>/offers/kymco-like-50-gasoline-white-70b79c85-...</td>\n",
              "    </tr>\n",
              "    <tr>\n",
              "      <th>11155</th>\n",
              "      <td>50</td>\n",
              "      <td>19000</td>\n",
              "      <td>88.00</td>\n",
              "      <td>Harley-Davidson Dyna Wide Glide</td>\n",
              "      <td>03/1999</td>\n",
              "      <td>Gasoline</td>\n",
              "      <td>Manual</td>\n",
              "      <td>Used</td>\n",
              "      <td>None</td>\n",
              "      <td>/offers/harley-davidson-dyna-wide-glide-gasoli...</td>\n",
              "    </tr>\n",
              "    <tr>\n",
              "      <th>19299</th>\n",
              "      <td>50</td>\n",
              "      <td>6700</td>\n",
              "      <td>4.00</td>\n",
              "      <td>Suzuki Katana 50</td>\n",
              "      <td>03/1997</td>\n",
              "      <td>Gasoline</td>\n",
              "      <td>Manual</td>\n",
              "      <td>Used</td>\n",
              "      <td>None</td>\n",
              "      <td>/offers/suzuki-katana-50-gasoline-black-0e0927...</td>\n",
              "    </tr>\n",
              "    <tr>\n",
              "      <th>15003</th>\n",
              "      <td>2</td>\n",
              "      <td>23000</td>\n",
              "      <td>14.00</td>\n",
              "      <td>Dnepr MT 10</td>\n",
              "      <td>09/1984</td>\n",
              "      <td>Gasoline</td>\n",
              "      <td>Manual</td>\n",
              "      <td>Antique / Classic</td>\n",
              "      <td>36 Sidecar</td>\n",
              "      <td>/offers/dnepr-mt-10-36-sidecar-gasoline-black-...</td>\n",
              "    </tr>\n",
              "    <tr>\n",
              "      <th>8563</th>\n",
              "      <td>1</td>\n",
              "      <td>16010</td>\n",
              "      <td>63.00</td>\n",
              "      <td>KTM 690 Duke</td>\n",
              "      <td>10/2009</td>\n",
              "      <td>Gasoline</td>\n",
              "      <td>Manual</td>\n",
              "      <td>Used</td>\n",
              "      <td>None</td>\n",
              "      <td>/offers/ktm-690-duke-gasoline-orange-636e30c7-...</td>\n",
              "    </tr>\n",
              "  </tbody>\n",
              "</table>\n",
              "<p>29085 rows × 10 columns</p>\n",
              "</div>"
            ],
            "text/plain": [
              "           price  mileage   power                       make_model     date  \\\n",
              "23654  888888888     1196   10.00                      SYM SYMNH X  08/2019   \n",
              "20925  123456789    24000  101.00                      Buell XB 12  06/2009   \n",
              "6857   123456789       24  175.00                           EBR RS  11/2011   \n",
              "28952    9999999  9999999   12.00      Harley-Davidson Custom Bike  02/2018   \n",
              "27266    9999999  9999999 1358.00          Harley-Davidson Bad Boy  01/2020   \n",
              "...          ...      ...     ...                              ...      ...   \n",
              "34899         50      390    1.00                    Kymco Like 50  06/2011   \n",
              "11155         50    19000   88.00  Harley-Davidson Dyna Wide Glide  03/1999   \n",
              "19299         50     6700    4.00                 Suzuki Katana 50  03/1997   \n",
              "15003          2    23000   14.00                      Dnepr MT 10  09/1984   \n",
              "8563           1    16010   63.00                     KTM 690 Duke  10/2009   \n",
              "\n",
              "           fuel    gear         offer_type                      version  \\\n",
              "23654  Gasoline  Manual               Used  !!! VENDUE !!! indisponible   \n",
              "20925  Gasoline  Manual               Used                         None   \n",
              "6857   Gasoline  Manual               Used          EBR 1190 RS Nieuw !   \n",
              "28952  Gasoline  Manual               Used                         None   \n",
              "27266    Diesel  Manual               Used              test big images   \n",
              "...         ...     ...                ...                          ...   \n",
              "34899  Gasoline  Manual               Used                         None   \n",
              "11155  Gasoline  Manual               Used                         None   \n",
              "19299  Gasoline  Manual               Used                         None   \n",
              "15003  Gasoline  Manual  Antique / Classic                   36 Sidecar   \n",
              "8563   Gasoline  Manual               Used                         None   \n",
              "\n",
              "                                                    link  \n",
              "23654  /offers/sym-symnh-x-vendue-indisponible-gasoli...  \n",
              "20925  /offers/buell-xb-12-gasoline-red-6bd3eec5-449d...  \n",
              "6857   /offers/ebr-rs-ebr-1190-rs-nieuw-gasoline-blac...  \n",
              "28952  /offers/harley-davidson-custom-bike-gasoline-g...  \n",
              "27266  /offers/harley-davidson-bad-boy-test-big-image...  \n",
              "...                                                  ...  \n",
              "34899  /offers/kymco-like-50-gasoline-white-70b79c85-...  \n",
              "11155  /offers/harley-davidson-dyna-wide-glide-gasoli...  \n",
              "19299  /offers/suzuki-katana-50-gasoline-black-0e0927...  \n",
              "15003  /offers/dnepr-mt-10-36-sidecar-gasoline-black-...  \n",
              "8563   /offers/ktm-690-duke-gasoline-orange-636e30c7-...  \n",
              "\n",
              "[29085 rows x 10 columns]"
            ]
          },
          "execution_count": 22,
          "metadata": {},
          "output_type": "execute_result"
        }
      ],
      "source": [
        "df"
      ]
    },
    {
      "cell_type": "code",
      "execution_count": 23,
      "metadata": {
        "id": "2bDiA4o9owis"
      },
      "outputs": [],
      "source": [
        "def remove_outliers_iqr(df, column):\n",
        "    # Calculate first quartile (Q1) and third quartile (Q3)\n",
        "    q1 = df[column].quantile(0.25)\n",
        "    q3 = df[column].quantile(0.75)\n",
        "\n",
        "    # Calculate interquartile range (IQR)\n",
        "    iqr = q3 - q1\n",
        "\n",
        "    # Define lower and upper bounds\n",
        "    lower_bound = q1 - 1.5 * iqr\n",
        "    upper_bound = q3 + 1.5 * iqr\n",
        "\n",
        "    # Identify outliers\n",
        "    outliers = (df[column] < lower_bound) | (df[column] > upper_bound)\n",
        "\n",
        "    # Remove outliers from the DataFrame\n",
        "    cleaned_df = df[~outliers]\n",
        "\n",
        "    return cleaned_df"
      ]
    },
    {
      "cell_type": "code",
      "execution_count": 24,
      "metadata": {
        "id": "ER8vV6dAowis"
      },
      "outputs": [
        {
          "data": {
            "text/html": [
              "<div>\n",
              "<style scoped>\n",
              "    .dataframe tbody tr th:only-of-type {\n",
              "        vertical-align: middle;\n",
              "    }\n",
              "\n",
              "    .dataframe tbody tr th {\n",
              "        vertical-align: top;\n",
              "    }\n",
              "\n",
              "    .dataframe thead th {\n",
              "        text-align: right;\n",
              "    }\n",
              "</style>\n",
              "<table border=\"1\" class=\"dataframe\">\n",
              "  <thead>\n",
              "    <tr style=\"text-align: right;\">\n",
              "      <th></th>\n",
              "      <th>price</th>\n",
              "      <th>mileage</th>\n",
              "      <th>power</th>\n",
              "      <th>make_model</th>\n",
              "      <th>date</th>\n",
              "      <th>fuel</th>\n",
              "      <th>gear</th>\n",
              "      <th>offer_type</th>\n",
              "      <th>version</th>\n",
              "      <th>link</th>\n",
              "    </tr>\n",
              "  </thead>\n",
              "  <tbody>\n",
              "    <tr>\n",
              "      <th>17780</th>\n",
              "      <td>23700</td>\n",
              "      <td>21226</td>\n",
              "      <td>118.00</td>\n",
              "      <td>Honda NRX 1800</td>\n",
              "      <td>08/2005</td>\n",
              "      <td>Gasoline</td>\n",
              "      <td>Manual</td>\n",
              "      <td>Used</td>\n",
              "      <td>Rune Valkyrie</td>\n",
              "      <td>/offers/honda-nrx-1800-rune-valkyrie-gasoline-...</td>\n",
              "    </tr>\n",
              "    <tr>\n",
              "      <th>15047</th>\n",
              "      <td>23700</td>\n",
              "      <td>50500</td>\n",
              "      <td>90.00</td>\n",
              "      <td>Harley-Davidson Street Glide</td>\n",
              "      <td>07/2017</td>\n",
              "      <td>Gasoline</td>\n",
              "      <td>Manual</td>\n",
              "      <td>Used</td>\n",
              "      <td>SPECIAL</td>\n",
              "      <td>/offers/harley-davidson-street-glide-special-g...</td>\n",
              "    </tr>\n",
              "    <tr>\n",
              "      <th>8639</th>\n",
              "      <td>23700</td>\n",
              "      <td>410</td>\n",
              "      <td>87.00</td>\n",
              "      <td>Harley-Davidson Softail Slim</td>\n",
              "      <td>03/2020</td>\n",
              "      <td>Gasoline</td>\n",
              "      <td>Manual</td>\n",
              "      <td>Used</td>\n",
              "      <td>Harley Davidson FLSL Leder KessTech Auspuffanlage</td>\n",
              "      <td>/offers/harley-davidson-softail-slim-harley-da...</td>\n",
              "    </tr>\n",
              "    <tr>\n",
              "      <th>17945</th>\n",
              "      <td>23690</td>\n",
              "      <td>0</td>\n",
              "      <td>0.00</td>\n",
              "      <td>Ducati XDiavel</td>\n",
              "      <td>01/2021</td>\n",
              "      <td>Gasoline</td>\n",
              "      <td>Manual</td>\n",
              "      <td>New</td>\n",
              "      <td>None</td>\n",
              "      <td>/offers/ducati-xdiavel-black-2a6e33fa-7a55-4b7...</td>\n",
              "    </tr>\n",
              "    <tr>\n",
              "      <th>21157</th>\n",
              "      <td>23689</td>\n",
              "      <td>16570</td>\n",
              "      <td>92.00</td>\n",
              "      <td>Harley-Davidson Softail</td>\n",
              "      <td>05/2016</td>\n",
              "      <td>Gasoline</td>\n",
              "      <td>Manual</td>\n",
              "      <td>Used</td>\n",
              "      <td>FAT BOY S - 1. Hand, Kess-Tech</td>\n",
              "      <td>/offers/harley-davidson-softail-fat-boy-s-1-ha...</td>\n",
              "    </tr>\n",
              "    <tr>\n",
              "      <th>...</th>\n",
              "      <td>...</td>\n",
              "      <td>...</td>\n",
              "      <td>...</td>\n",
              "      <td>...</td>\n",
              "      <td>...</td>\n",
              "      <td>...</td>\n",
              "      <td>...</td>\n",
              "      <td>...</td>\n",
              "      <td>...</td>\n",
              "      <td>...</td>\n",
              "    </tr>\n",
              "    <tr>\n",
              "      <th>34899</th>\n",
              "      <td>50</td>\n",
              "      <td>390</td>\n",
              "      <td>1.00</td>\n",
              "      <td>Kymco Like 50</td>\n",
              "      <td>06/2011</td>\n",
              "      <td>Gasoline</td>\n",
              "      <td>Manual</td>\n",
              "      <td>Used</td>\n",
              "      <td>None</td>\n",
              "      <td>/offers/kymco-like-50-gasoline-white-70b79c85-...</td>\n",
              "    </tr>\n",
              "    <tr>\n",
              "      <th>11155</th>\n",
              "      <td>50</td>\n",
              "      <td>19000</td>\n",
              "      <td>88.00</td>\n",
              "      <td>Harley-Davidson Dyna Wide Glide</td>\n",
              "      <td>03/1999</td>\n",
              "      <td>Gasoline</td>\n",
              "      <td>Manual</td>\n",
              "      <td>Used</td>\n",
              "      <td>None</td>\n",
              "      <td>/offers/harley-davidson-dyna-wide-glide-gasoli...</td>\n",
              "    </tr>\n",
              "    <tr>\n",
              "      <th>19299</th>\n",
              "      <td>50</td>\n",
              "      <td>6700</td>\n",
              "      <td>4.00</td>\n",
              "      <td>Suzuki Katana 50</td>\n",
              "      <td>03/1997</td>\n",
              "      <td>Gasoline</td>\n",
              "      <td>Manual</td>\n",
              "      <td>Used</td>\n",
              "      <td>None</td>\n",
              "      <td>/offers/suzuki-katana-50-gasoline-black-0e0927...</td>\n",
              "    </tr>\n",
              "    <tr>\n",
              "      <th>15003</th>\n",
              "      <td>2</td>\n",
              "      <td>23000</td>\n",
              "      <td>14.00</td>\n",
              "      <td>Dnepr MT 10</td>\n",
              "      <td>09/1984</td>\n",
              "      <td>Gasoline</td>\n",
              "      <td>Manual</td>\n",
              "      <td>Antique / Classic</td>\n",
              "      <td>36 Sidecar</td>\n",
              "      <td>/offers/dnepr-mt-10-36-sidecar-gasoline-black-...</td>\n",
              "    </tr>\n",
              "    <tr>\n",
              "      <th>8563</th>\n",
              "      <td>1</td>\n",
              "      <td>16010</td>\n",
              "      <td>63.00</td>\n",
              "      <td>KTM 690 Duke</td>\n",
              "      <td>10/2009</td>\n",
              "      <td>Gasoline</td>\n",
              "      <td>Manual</td>\n",
              "      <td>Used</td>\n",
              "      <td>None</td>\n",
              "      <td>/offers/ktm-690-duke-gasoline-orange-636e30c7-...</td>\n",
              "    </tr>\n",
              "  </tbody>\n",
              "</table>\n",
              "<p>27867 rows × 10 columns</p>\n",
              "</div>"
            ],
            "text/plain": [
              "       price  mileage  power                       make_model     date  \\\n",
              "17780  23700    21226 118.00                   Honda NRX 1800  08/2005   \n",
              "15047  23700    50500  90.00     Harley-Davidson Street Glide  07/2017   \n",
              "8639   23700      410  87.00     Harley-Davidson Softail Slim  03/2020   \n",
              "17945  23690        0   0.00                   Ducati XDiavel  01/2021   \n",
              "21157  23689    16570  92.00          Harley-Davidson Softail  05/2016   \n",
              "...      ...      ...    ...                              ...      ...   \n",
              "34899     50      390   1.00                    Kymco Like 50  06/2011   \n",
              "11155     50    19000  88.00  Harley-Davidson Dyna Wide Glide  03/1999   \n",
              "19299     50     6700   4.00                 Suzuki Katana 50  03/1997   \n",
              "15003      2    23000  14.00                      Dnepr MT 10  09/1984   \n",
              "8563       1    16010  63.00                     KTM 690 Duke  10/2009   \n",
              "\n",
              "           fuel    gear         offer_type  \\\n",
              "17780  Gasoline  Manual               Used   \n",
              "15047  Gasoline  Manual               Used   \n",
              "8639   Gasoline  Manual               Used   \n",
              "17945  Gasoline  Manual                New   \n",
              "21157  Gasoline  Manual               Used   \n",
              "...         ...     ...                ...   \n",
              "34899  Gasoline  Manual               Used   \n",
              "11155  Gasoline  Manual               Used   \n",
              "19299  Gasoline  Manual               Used   \n",
              "15003  Gasoline  Manual  Antique / Classic   \n",
              "8563   Gasoline  Manual               Used   \n",
              "\n",
              "                                                 version  \\\n",
              "17780                                      Rune Valkyrie   \n",
              "15047                                            SPECIAL   \n",
              "8639   Harley Davidson FLSL Leder KessTech Auspuffanlage   \n",
              "17945                                               None   \n",
              "21157                     FAT BOY S - 1. Hand, Kess-Tech   \n",
              "...                                                  ...   \n",
              "34899                                               None   \n",
              "11155                                               None   \n",
              "19299                                               None   \n",
              "15003                                         36 Sidecar   \n",
              "8563                                                None   \n",
              "\n",
              "                                                    link  \n",
              "17780  /offers/honda-nrx-1800-rune-valkyrie-gasoline-...  \n",
              "15047  /offers/harley-davidson-street-glide-special-g...  \n",
              "8639   /offers/harley-davidson-softail-slim-harley-da...  \n",
              "17945  /offers/ducati-xdiavel-black-2a6e33fa-7a55-4b7...  \n",
              "21157  /offers/harley-davidson-softail-fat-boy-s-1-ha...  \n",
              "...                                                  ...  \n",
              "34899  /offers/kymco-like-50-gasoline-white-70b79c85-...  \n",
              "11155  /offers/harley-davidson-dyna-wide-glide-gasoli...  \n",
              "19299  /offers/suzuki-katana-50-gasoline-black-0e0927...  \n",
              "15003  /offers/dnepr-mt-10-36-sidecar-gasoline-black-...  \n",
              "8563   /offers/ktm-690-duke-gasoline-orange-636e30c7-...  \n",
              "\n",
              "[27867 rows x 10 columns]"
            ]
          },
          "execution_count": 24,
          "metadata": {},
          "output_type": "execute_result"
        }
      ],
      "source": [
        "df = remove_outliers_iqr(df, 'price')\n",
        "df"
      ]
    },
    {
      "cell_type": "code",
      "execution_count": 25,
      "metadata": {
        "id": "wVSAeTKsowis"
      },
      "outputs": [
        {
          "data": {
            "text/plain": [
              "Used                 25344\n",
              "New                   1545\n",
              "Demonstration          613\n",
              "Pre-registered         231\n",
              "Antique / Classic      134\n",
              "Name: offer_type, dtype: int64"
            ]
          },
          "execution_count": 25,
          "metadata": {},
          "output_type": "execute_result"
        }
      ],
      "source": [
        "offer_count=df[\"offer_type\"].value_counts()\n",
        "offer_count"
      ]
    },
    {
      "cell_type": "code",
      "execution_count": 26,
      "metadata": {
        "id": "q_pujSkMowis"
      },
      "outputs": [
        {
          "data": {
            "text/plain": [
              "BMW R 1200 GS              678\n",
              "BMW R nineT                373\n",
              "BMW R 1200 GS Adventure    306\n",
              "Others                     306\n",
              "Honda                      295\n",
              "Name: make_model, dtype: int64"
            ]
          },
          "execution_count": 26,
          "metadata": {},
          "output_type": "execute_result"
        }
      ],
      "source": [
        "make_model_counts = df[\"make_model\"].value_counts()\n",
        "make_model_counts.head(5)"
      ]
    },
    {
      "cell_type": "code",
      "execution_count": 27,
      "metadata": {
        "id": "wEKQiZQAowis"
      },
      "outputs": [
        {
          "data": {
            "text/plain": [
              "fuel\n",
              "Diesel                10727.03\n",
              "Gasoline               9510.83\n",
              "Others                 8850.35\n",
              "LPG                    6250.00\n",
              "Electric/Gasoline      6037.38\n",
              "Electric               5725.34\n",
              "Two Stroke Gasoline    3469.14\n",
              "Name: price, dtype: float64"
            ]
          },
          "execution_count": 27,
          "metadata": {},
          "output_type": "execute_result"
        }
      ],
      "source": [
        "fuel_Avg_price= df.groupby(\"fuel\")[\"price\"].mean()\n",
        "fuel_Avg_price.sort_values(ascending=False)"
      ]
    },
    {
      "cell_type": "code",
      "execution_count": 28,
      "metadata": {
        "id": "FpgapvMwowis"
      },
      "outputs": [
        {
          "data": {
            "text/plain": [
              "gear\n",
              "Manual           11700.00\n",
              "Semi-automatic   11300.00\n",
              "Automatic         5496.50\n",
              "Name: mileage, dtype: float64"
            ]
          },
          "execution_count": 28,
          "metadata": {},
          "output_type": "execute_result"
        }
      ],
      "source": [
        "gear_median_mileage= df.groupby(\"gear\")[\"mileage\"].median()\n",
        "gear_median_mileage.sort_values(ascending=False)"
      ]
    },
    {
      "cell_type": "code",
      "execution_count": 29,
      "metadata": {
        "id": "T6-Fhk4Zowis"
      },
      "outputs": [],
      "source": [
        "offer_max_power= df.groupby(\"offer_type\")[\"power\"].max()\n",
        "offer_max_power.sort_values(ascending=False,inplace=True)"
      ]
    },
    {
      "cell_type": "code",
      "execution_count": 30,
      "metadata": {
        "id": "n-PUfkckowis"
      },
      "outputs": [
        {
          "data": {
            "text/plain": [
              "make_model\n",
              "Harley-Davidson Tri Glide   23000.00\n",
              "BMW R18 Classic             22433.33\n",
              "BMW R 1                     22406.67\n",
              "Confederate                 22250.00\n",
              "BMW K 1600 Grand America    21990.00\n",
              "Name: price, dtype: float64"
            ]
          },
          "execution_count": 30,
          "metadata": {},
          "output_type": "execute_result"
        }
      ],
      "source": [
        "model_avg_price = df.groupby(\"make_model\")[\"price\"].mean()\n",
        "model_avg_price.sort_values(ascending=False).head(5)"
      ]
    },
    {
      "cell_type": "code",
      "execution_count": 31,
      "metadata": {
        "id": "7W6q06M6owit"
      },
      "outputs": [
        {
          "data": {
            "text/html": [
              "<div>\n",
              "<style scoped>\n",
              "    .dataframe tbody tr th:only-of-type {\n",
              "        vertical-align: middle;\n",
              "    }\n",
              "\n",
              "    .dataframe tbody tr th {\n",
              "        vertical-align: top;\n",
              "    }\n",
              "\n",
              "    .dataframe thead th {\n",
              "        text-align: right;\n",
              "    }\n",
              "</style>\n",
              "<table border=\"1\" class=\"dataframe\">\n",
              "  <thead>\n",
              "    <tr style=\"text-align: right;\">\n",
              "      <th>gear</th>\n",
              "      <th>Automatic</th>\n",
              "      <th>Manual</th>\n",
              "      <th>Semi-automatic</th>\n",
              "    </tr>\n",
              "    <tr>\n",
              "      <th>fuel</th>\n",
              "      <th></th>\n",
              "      <th></th>\n",
              "      <th></th>\n",
              "    </tr>\n",
              "  </thead>\n",
              "  <tbody>\n",
              "    <tr>\n",
              "      <th>Diesel</th>\n",
              "      <td>4</td>\n",
              "      <td>115</td>\n",
              "      <td>0</td>\n",
              "    </tr>\n",
              "    <tr>\n",
              "      <th>Electric</th>\n",
              "      <td>184</td>\n",
              "      <td>182</td>\n",
              "      <td>1</td>\n",
              "    </tr>\n",
              "    <tr>\n",
              "      <th>Electric/Gasoline</th>\n",
              "      <td>2</td>\n",
              "      <td>6</td>\n",
              "      <td>0</td>\n",
              "    </tr>\n",
              "    <tr>\n",
              "      <th>Gasoline</th>\n",
              "      <td>1669</td>\n",
              "      <td>24872</td>\n",
              "      <td>220</td>\n",
              "    </tr>\n",
              "    <tr>\n",
              "      <th>LPG</th>\n",
              "      <td>0</td>\n",
              "      <td>1</td>\n",
              "      <td>0</td>\n",
              "    </tr>\n",
              "    <tr>\n",
              "      <th>Others</th>\n",
              "      <td>10</td>\n",
              "      <td>133</td>\n",
              "      <td>0</td>\n",
              "    </tr>\n",
              "    <tr>\n",
              "      <th>Two Stroke Gasoline</th>\n",
              "      <td>51</td>\n",
              "      <td>414</td>\n",
              "      <td>3</td>\n",
              "    </tr>\n",
              "  </tbody>\n",
              "</table>\n",
              "</div>"
            ],
            "text/plain": [
              "gear                 Automatic  Manual  Semi-automatic\n",
              "fuel                                                  \n",
              "Diesel                       4     115               0\n",
              "Electric                   184     182               1\n",
              "Electric/Gasoline            2       6               0\n",
              "Gasoline                  1669   24872             220\n",
              "LPG                          0       1               0\n",
              "Others                      10     133               0\n",
              "Two Stroke Gasoline         51     414               3"
            ]
          },
          "execution_count": 31,
          "metadata": {},
          "output_type": "execute_result"
        }
      ],
      "source": [
        "fuel_gear_counts= df.groupby([\"fuel\",\"gear\"]).size().unstack(fill_value=0)\n",
        "fuel_gear_counts"
      ]
    },
    {
      "cell_type": "code",
      "execution_count": 32,
      "metadata": {
        "id": "XUlo6-DIowit"
      },
      "outputs": [],
      "source": [
        "fuel_Avg_price = df.groupby(\"fuel\")[\"price\"].mean()\n",
        "fuel_Avg_price.sort_values(ascending=False,inplace=True)\n"
      ]
    },
    {
      "cell_type": "code",
      "execution_count": 33,
      "metadata": {
        "id": "hZouudpnowit"
      },
      "outputs": [
        {
          "data": {
            "image/png": "[encoded data removed]",
            "text/plain": [
              "<Figure size 640x480 with 1 Axes>"
            ]
          },
          "metadata": {},
          "output_type": "display_data"
        }
      ],
      "source": [
        "fuel_Avg_price.plot(kind=\"bar\",color=\"skyblue\")\n",
        "plt.xlabel(\"Fuel Type\")\n",
        "plt.ylabel(\"Average Price\")\n",
        "plt.title(\"Average Price by Fuel Type\")\n",
        "plt.xticks(rotation= 45)\n",
        "plt.show()"
      ]
    },
    {
      "cell_type": "code",
      "execution_count": 34,
      "metadata": {
        "id": "wtxN7Fozowit"
      },
      "outputs": [
        {
          "data": {
            "image/png": "[encoded data removed]",
            "text/plain": [
              "<Figure size 640x480 with 1 Axes>"
            ]
          },
          "metadata": {},
          "output_type": "display_data"
        }
      ],
      "source": [
        "offer_max_power=offer_max_power.tail(4)\n",
        "offer_max_power.plot(kind=\"bar\",color='lightcoral')\n",
        "plt.xlabel(\"Offer Type\")\n",
        "plt.ylabel(\"Max Power\")\n",
        "plt.title(\"Max Power by Offer Type\")\n",
        "plt.xticks(rotation=45)\n",
        "plt.show()"
      ]
    },
    {
      "cell_type": "code",
      "execution_count": 35,
      "metadata": {
        "id": "vIteoV1Wowit"
      },
      "outputs": [
        {
          "data": {
            "text/plain": [
              "Gasoline               26761\n",
              "Two Stroke Gasoline      468\n",
              "Electric                 367\n",
              "Others                   143\n",
              "Diesel                   119\n",
              "Electric/Gasoline          8\n",
              "LPG                        1\n",
              "Name: fuel, dtype: int64"
            ]
          },
          "execution_count": 35,
          "metadata": {},
          "output_type": "execute_result"
        }
      ],
      "source": [
        "fuel_distribution=df[\"fuel\"].value_counts()\n",
        "fuel_distribution\n"
      ]
    },
    {
      "cell_type": "code",
      "execution_count": 36,
      "metadata": {
        "id": "Ib7H3elZowit"
      },
      "outputs": [
        {
          "data": {
            "text/plain": [
              "Two Stroke Gasoline    468\n",
              "Electric               367\n",
              "Others                 143\n",
              "Diesel                 119\n",
              "Electric/Gasoline        8\n",
              "LPG                      1\n",
              "Name: fuel, dtype: int64"
            ]
          },
          "execution_count": 36,
          "metadata": {},
          "output_type": "execute_result"
        }
      ],
      "source": [
        "fuel_distribution = fuel_distribution.tail(6)\n",
        "fuel_distribution"
      ]
    },
    {
      "cell_type": "code",
      "execution_count": 37,
      "metadata": {
        "id": "wDMYty3bowit"
      },
      "outputs": [
        {
          "data": {
            "image/png": "[encoded data removed]",
            "text/plain": [
              "<Figure size 640x480 with 1 Axes>"
            ]
          },
          "metadata": {},
          "output_type": "display_data"
        }
      ],
      "source": [
        "plt.pie(fuel_distribution, labels=fuel_distribution.index,autopct=\"%1.1f%%\",startangle=140,colors=[\"gold\",\"lightcoral\",\"lightgreen\"])\n",
        "plt.axis(\"equal\")\n",
        "plt.title(\"Fuel Distribution (pure Gasoline not included)\")\n",
        "plt.show()"
      ]
    },
    {
      "cell_type": "code",
      "execution_count": 38,
      "metadata": {
        "id": "6vZGFA8Cowiu"
      },
      "outputs": [
        {
          "data": {
            "text/plain": [
              "Index(['price', 'mileage', 'power', 'make_model', 'date', 'fuel', 'gear',\n",
              "       'offer_type', 'version', 'link'],\n",
              "      dtype='object')"
            ]
          },
          "execution_count": 38,
          "metadata": {},
          "output_type": "execute_result"
        }
      ],
      "source": [
        "df.columns"
      ]
    },
    {
      "cell_type": "code",
      "execution_count": 39,
      "metadata": {
        "id": "K3wc9OfIowiu"
      },
      "outputs": [
        {
          "name": "stderr",
          "output_type": "stream",
          "text": [
            "C:\\Users\\DELL\\AppData\\Local\\Temp\\ipykernel_15536\\11348636.py:5: SettingWithCopyWarning: \n",
            "A value is trying to be set on a copy of a slice from a DataFrame.\n",
            "Try using .loc[row_indexer,col_indexer] = value instead\n",
            "\n",
            "See the caveats in the documentation: https://pandas.pydata.org/pandas-docs/stable/user_guide/indexing.html#returning-a-view-versus-a-copy\n",
            "  df['version'] = label_encoder.fit_transform(df['version'])\n",
            "C:\\Users\\DELL\\AppData\\Local\\Temp\\ipykernel_15536\\11348636.py:6: SettingWithCopyWarning: \n",
            "A value is trying to be set on a copy of a slice from a DataFrame.\n",
            "Try using .loc[row_indexer,col_indexer] = value instead\n",
            "\n",
            "See the caveats in the documentation: https://pandas.pydata.org/pandas-docs/stable/user_guide/indexing.html#returning-a-view-versus-a-copy\n",
            "  df['make_model'] = label_encoder.fit_transform(df['make_model'])\n",
            "C:\\Users\\DELL\\AppData\\Local\\Temp\\ipykernel_15536\\11348636.py:7: SettingWithCopyWarning: \n",
            "A value is trying to be set on a copy of a slice from a DataFrame.\n",
            "Try using .loc[row_indexer,col_indexer] = value instead\n",
            "\n",
            "See the caveats in the documentation: https://pandas.pydata.org/pandas-docs/stable/user_guide/indexing.html#returning-a-view-versus-a-copy\n",
            "  df['date'] = label_encoder.fit_transform(df['date'])\n",
            "C:\\Users\\DELL\\AppData\\Local\\Temp\\ipykernel_15536\\11348636.py:8: SettingWithCopyWarning: \n",
            "A value is trying to be set on a copy of a slice from a DataFrame.\n",
            "Try using .loc[row_indexer,col_indexer] = value instead\n",
            "\n",
            "See the caveats in the documentation: https://pandas.pydata.org/pandas-docs/stable/user_guide/indexing.html#returning-a-view-versus-a-copy\n",
            "  df['fuel'] = label_encoder.fit_transform(df['fuel'])\n",
            "C:\\Users\\DELL\\AppData\\Local\\Temp\\ipykernel_15536\\11348636.py:9: SettingWithCopyWarning: \n",
            "A value is trying to be set on a copy of a slice from a DataFrame.\n",
            "Try using .loc[row_indexer,col_indexer] = value instead\n",
            "\n",
            "See the caveats in the documentation: https://pandas.pydata.org/pandas-docs/stable/user_guide/indexing.html#returning-a-view-versus-a-copy\n",
            "  df['gear'] = label_encoder.fit_transform(df['gear'])\n",
            "C:\\Users\\DELL\\AppData\\Local\\Temp\\ipykernel_15536\\11348636.py:10: SettingWithCopyWarning: \n",
            "A value is trying to be set on a copy of a slice from a DataFrame.\n",
            "Try using .loc[row_indexer,col_indexer] = value instead\n",
            "\n",
            "See the caveats in the documentation: https://pandas.pydata.org/pandas-docs/stable/user_guide/indexing.html#returning-a-view-versus-a-copy\n",
            "  df['offer_type'] = label_encoder.fit_transform(df['offer_type'])\n"
          ]
        },
        {
          "data": {
            "text/plain": [
              "price           int64\n",
              "mileage         int64\n",
              "power         float64\n",
              "make_model      int32\n",
              "date            int32\n",
              "fuel            int32\n",
              "gear            int32\n",
              "offer_type      int32\n",
              "version         int32\n",
              "dtype: object"
            ]
          },
          "execution_count": 39,
          "metadata": {},
          "output_type": "execute_result"
        }
      ],
      "source": [
        "from sklearn.preprocessing import LabelEncoder\n",
        "label_encoder = LabelEncoder()\n",
        "\n",
        "# Transforming all our object datatype into ints\n",
        "df['version'] = label_encoder.fit_transform(df['version'])\n",
        "df['make_model'] = label_encoder.fit_transform(df['make_model'])\n",
        "df['date'] = label_encoder.fit_transform(df['date'])\n",
        "df['fuel'] = label_encoder.fit_transform(df['fuel'])\n",
        "df['gear'] = label_encoder.fit_transform(df['gear'])\n",
        "df['offer_type'] = label_encoder.fit_transform(df['offer_type'])\n",
        "\n",
        "df = df.drop('link', axis=1)\n",
        "df.dtypes"
      ]
    },
    {
      "cell_type": "code",
      "execution_count": 40,
      "metadata": {
        "id": "id1yitE5owiu"
      },
      "outputs": [
        {
          "data": {
            "image/png": "[encoded data removed]",
            "text/plain": [
              "<Figure size 1200x1000 with 2 Axes>"
            ]
          },
          "metadata": {},
          "output_type": "display_data"
        }
      ],
      "source": [
        "correlation = df.corr()\n",
        "figure = plt.figure(figsize=(12, 10))\n",
        "sns.heatmap(correlation, annot=True, cmap='magma', fmt='.1f')\n",
        "plt.show()"
      ]
    },
    {
      "cell_type": "code",
      "execution_count": 46,
      "metadata": {
        "id": "bec6GaGvowiu"
      },
      "outputs": [],
      "source": [
        "y=df[['price']].iloc[:, 0]"
      ]
    },
    {
      "cell_type": "code",
      "execution_count": 47,
      "metadata": {},
      "outputs": [],
      "source": [
        "def column_to_1d(arr, warn=True):\n",
        "    if arr.ndim == 2 and arr.shape[1] == 1:\n",
        "        return arr.flatten()\n",
        "\n",
        "    elif arr.ndim != 1:\n",
        "        if warn:\n",
        "            print(\"Warning: Input should be a column vector or 1D array.\")\n",
        "\n",
        "        raise ValueError(\"Input must be either a column vector or 1D array\")\n",
        "\n",
        "    else:\n",
        "        return arr\n"
      ]
    },
    {
      "cell_type": "code",
      "execution_count": 48,
      "metadata": {},
      "outputs": [],
      "source": [
        "y = column_to_1d(y)"
      ]
    },
    {
      "cell_type": "code",
      "execution_count": 49,
      "metadata": {
        "id": "SlluDsK0owi4"
      },
      "outputs": [
        {
          "data": {
            "text/html": [
              "<div>\n",
              "<style scoped>\n",
              "    .dataframe tbody tr th:only-of-type {\n",
              "        vertical-align: middle;\n",
              "    }\n",
              "\n",
              "    .dataframe tbody tr th {\n",
              "        vertical-align: top;\n",
              "    }\n",
              "\n",
              "    .dataframe thead th {\n",
              "        text-align: right;\n",
              "    }\n",
              "</style>\n",
              "<table border=\"1\" class=\"dataframe\">\n",
              "  <thead>\n",
              "    <tr style=\"text-align: right;\">\n",
              "      <th></th>\n",
              "      <th>mileage</th>\n",
              "      <th>power</th>\n",
              "      <th>fuel</th>\n",
              "      <th>gear</th>\n",
              "      <th>offer_type</th>\n",
              "    </tr>\n",
              "  </thead>\n",
              "  <tbody>\n",
              "    <tr>\n",
              "      <th>17780</th>\n",
              "      <td>21226</td>\n",
              "      <td>118.00</td>\n",
              "      <td>3</td>\n",
              "      <td>1</td>\n",
              "      <td>4</td>\n",
              "    </tr>\n",
              "    <tr>\n",
              "      <th>15047</th>\n",
              "      <td>50500</td>\n",
              "      <td>90.00</td>\n",
              "      <td>3</td>\n",
              "      <td>1</td>\n",
              "      <td>4</td>\n",
              "    </tr>\n",
              "    <tr>\n",
              "      <th>8639</th>\n",
              "      <td>410</td>\n",
              "      <td>87.00</td>\n",
              "      <td>3</td>\n",
              "      <td>1</td>\n",
              "      <td>4</td>\n",
              "    </tr>\n",
              "    <tr>\n",
              "      <th>17945</th>\n",
              "      <td>0</td>\n",
              "      <td>0.00</td>\n",
              "      <td>3</td>\n",
              "      <td>1</td>\n",
              "      <td>2</td>\n",
              "    </tr>\n",
              "    <tr>\n",
              "      <th>21157</th>\n",
              "      <td>16570</td>\n",
              "      <td>92.00</td>\n",
              "      <td>3</td>\n",
              "      <td>1</td>\n",
              "      <td>4</td>\n",
              "    </tr>\n",
              "    <tr>\n",
              "      <th>...</th>\n",
              "      <td>...</td>\n",
              "      <td>...</td>\n",
              "      <td>...</td>\n",
              "      <td>...</td>\n",
              "      <td>...</td>\n",
              "    </tr>\n",
              "    <tr>\n",
              "      <th>34899</th>\n",
              "      <td>390</td>\n",
              "      <td>1.00</td>\n",
              "      <td>3</td>\n",
              "      <td>1</td>\n",
              "      <td>4</td>\n",
              "    </tr>\n",
              "    <tr>\n",
              "      <th>11155</th>\n",
              "      <td>19000</td>\n",
              "      <td>88.00</td>\n",
              "      <td>3</td>\n",
              "      <td>1</td>\n",
              "      <td>4</td>\n",
              "    </tr>\n",
              "    <tr>\n",
              "      <th>19299</th>\n",
              "      <td>6700</td>\n",
              "      <td>4.00</td>\n",
              "      <td>3</td>\n",
              "      <td>1</td>\n",
              "      <td>4</td>\n",
              "    </tr>\n",
              "    <tr>\n",
              "      <th>15003</th>\n",
              "      <td>23000</td>\n",
              "      <td>14.00</td>\n",
              "      <td>3</td>\n",
              "      <td>1</td>\n",
              "      <td>0</td>\n",
              "    </tr>\n",
              "    <tr>\n",
              "      <th>8563</th>\n",
              "      <td>16010</td>\n",
              "      <td>63.00</td>\n",
              "      <td>3</td>\n",
              "      <td>1</td>\n",
              "      <td>4</td>\n",
              "    </tr>\n",
              "  </tbody>\n",
              "</table>\n",
              "<p>27867 rows × 5 columns</p>\n",
              "</div>"
            ],
            "text/plain": [
              "       mileage  power  fuel  gear  offer_type\n",
              "17780    21226 118.00     3     1           4\n",
              "15047    50500  90.00     3     1           4\n",
              "8639       410  87.00     3     1           4\n",
              "17945        0   0.00     3     1           2\n",
              "21157    16570  92.00     3     1           4\n",
              "...        ...    ...   ...   ...         ...\n",
              "34899      390   1.00     3     1           4\n",
              "11155    19000  88.00     3     1           4\n",
              "19299     6700   4.00     3     1           4\n",
              "15003    23000  14.00     3     1           0\n",
              "8563     16010  63.00     3     1           4\n",
              "\n",
              "[27867 rows x 5 columns]"
            ]
          },
          "execution_count": 49,
          "metadata": {},
          "output_type": "execute_result"
        }
      ],
      "source": [
        "X = df[['mileage','power','fuel','gear','offer_type']]\n",
        "X"
      ]
    },
    {
      "cell_type": "code",
      "execution_count": 50,
      "metadata": {
        "id": "RG1mHVtbowi5"
      },
      "outputs": [],
      "source": [
        "from sklearn.model_selection import train_test_split\n",
        "X_train,X_test,y_train,y_test = train_test_split(X,y,test_size=0.2)"
      ]
    },
    {
      "cell_type": "code",
      "execution_count": 51,
      "metadata": {
        "id": "mCyliHqEowi5"
      },
      "outputs": [],
      "source": [
        "from sklearn.preprocessing import StandardScaler\n",
        "scaler=StandardScaler()"
      ]
    },
    {
      "cell_type": "code",
      "execution_count": 52,
      "metadata": {
        "id": "L4m4pNoeowi5"
      },
      "outputs": [],
      "source": [
        "scaled_X_train =scaler.fit_transform(X_train)\n",
        "scaled_X_test =scaler.fit_transform(X_test)"
      ]
    },
    {
      "cell_type": "code",
      "execution_count": 53,
      "metadata": {
        "id": "L87ywRR_owi5"
      },
      "outputs": [],
      "source": [
        "from sklearn.metrics import mean_absolute_error, mean_squared_error\n",
        "def modelresults(predictions):\n",
        "    print(\"Mean absolute error on model is {}\".format(mean_absolute_error(y_test,predictions)))\n",
        "    print(\"Mean squared error on model is {}\".format(np.sqrt(mean_squared_error(y_test,predictions))))"
      ]
    },
    {
      "cell_type": "code",
      "execution_count": 54,
      "metadata": {
        "id": "VnfnfyBQowi5"
      },
      "outputs": [],
      "source": [
        "from sklearn.linear_model import LinearRegression\n",
        "lr= LinearRegression()"
      ]
    },
    {
      "cell_type": "code",
      "execution_count": 55,
      "metadata": {
        "id": "awDXO1s8owi5"
      },
      "outputs": [
        {
          "data": {
            "text/html": [
              "<style>#sk-container-id-1 {color: black;background-color: white;}#sk-container-id-1 pre{padding: 0;}#sk-container-id-1 div.sk-toggleable {background-color: white;}#sk-container-id-1 label.sk-toggleable__label {cursor: pointer;display: block;width: 100%;margin-bottom: 0;padding: 0.3em;box-sizing: border-box;text-align: center;}#sk-container-id-1 label.sk-toggleable__label-arrow:before {content: \"▸\";float: left;margin-right: 0.25em;color: #696969;}#sk-container-id-1 label.sk-toggleable__label-arrow:hover:before {color: black;}#sk-container-id-1 div.sk-estimator:hover label.sk-toggleable__label-arrow:before {color: black;}#sk-container-id-1 div.sk-toggleable__content {max-height: 0;max-width: 0;overflow: hidden;text-align: left;background-color: #f0f8ff;}#sk-container-id-1 div.sk-toggleable__content pre {margin: 0.2em;color: black;border-radius: 0.25em;background-color: #f0f8ff;}#sk-container-id-1 input.sk-toggleable__control:checked~div.sk-toggleable__content {max-height: 200px;max-width: 100%;overflow: auto;}#sk-container-id-1 input.sk-toggleable__control:checked~label.sk-toggleable__label-arrow:before {content: \"▾\";}#sk-container-id-1 div.sk-estimator input.sk-toggleable__control:checked~label.sk-toggleable__label {background-color: #d4ebff;}#sk-container-id-1 div.sk-label input.sk-toggleable__control:checked~label.sk-toggleable__label {background-color: #d4ebff;}#sk-container-id-1 input.sk-hidden--visually {border: 0;clip: rect(1px 1px 1px 1px);clip: rect(1px, 1px, 1px, 1px);height: 1px;margin: -1px;overflow: hidden;padding: 0;position: absolute;width: 1px;}#sk-container-id-1 div.sk-estimator {font-family: monospace;background-color: #f0f8ff;border: 1px dotted black;border-radius: 0.25em;box-sizing: border-box;margin-bottom: 0.5em;}#sk-container-id-1 div.sk-estimator:hover {background-color: #d4ebff;}#sk-container-id-1 div.sk-parallel-item::after {content: \"\";width: 100%;border-bottom: 1px solid gray;flex-grow: 1;}#sk-container-id-1 div.sk-label:hover label.sk-toggleable__label {background-color: #d4ebff;}#sk-container-id-1 div.sk-serial::before {content: \"\";position: absolute;border-left: 1px solid gray;box-sizing: border-box;top: 0;bottom: 0;left: 50%;z-index: 0;}#sk-container-id-1 div.sk-serial {display: flex;flex-direction: column;align-items: center;background-color: white;padding-right: 0.2em;padding-left: 0.2em;position: relative;}#sk-container-id-1 div.sk-item {position: relative;z-index: 1;}#sk-container-id-1 div.sk-parallel {display: flex;align-items: stretch;justify-content: center;background-color: white;position: relative;}#sk-container-id-1 div.sk-item::before, #sk-container-id-1 div.sk-parallel-item::before {content: \"\";position: absolute;border-left: 1px solid gray;box-sizing: border-box;top: 0;bottom: 0;left: 50%;z-index: -1;}#sk-container-id-1 div.sk-parallel-item {display: flex;flex-direction: column;z-index: 1;position: relative;background-color: white;}#sk-container-id-1 div.sk-parallel-item:first-child::after {align-self: flex-end;width: 50%;}#sk-container-id-1 div.sk-parallel-item:last-child::after {align-self: flex-start;width: 50%;}#sk-container-id-1 div.sk-parallel-item:only-child::after {width: 0;}#sk-container-id-1 div.sk-dashed-wrapped {border: 1px dashed gray;margin: 0 0.4em 0.5em 0.4em;box-sizing: border-box;padding-bottom: 0.4em;background-color: white;}#sk-container-id-1 div.sk-label label {font-family: monospace;font-weight: bold;display: inline-block;line-height: 1.2em;}#sk-container-id-1 div.sk-label-container {text-align: center;}#sk-container-id-1 div.sk-container {/* jupyter's `normalize.less` sets `[hidden] { display: none; }` but bootstrap.min.css set `[hidden] { display: none !important; }` so we also need the `!important` here to be able to override the default hidden behavior on the sphinx rendered scikit-learn.org. See: https://github.com/scikit-learn/scikit-learn/issues/21755 */display: inline-block !important;position: relative;}#sk-container-id-1 div.sk-text-repr-fallback {display: none;}</style><div id=\"sk-container-id-1\" class=\"sk-top-container\"><div class=\"sk-text-repr-fallback\"><pre>LinearRegression()</pre><b>In a Jupyter environment, please rerun this cell to show the HTML representation or trust the notebook. <br />On GitHub, the HTML representation is unable to render, please try loading this page with nbviewer.org.</b></div><div class=\"sk-container\" hidden><div class=\"sk-item\"><div class=\"sk-estimator sk-toggleable\"><input class=\"sk-toggleable__control sk-hidden--visually\" id=\"sk-estimator-id-1\" type=\"checkbox\" checked><label for=\"sk-estimator-id-1\" class=\"sk-toggleable__label sk-toggleable__label-arrow\">LinearRegression</label><div class=\"sk-toggleable__content\"><pre>LinearRegression()</pre></div></div></div></div></div>"
            ],
            "text/plain": [
              "LinearRegression()"
            ]
          },
          "execution_count": 55,
          "metadata": {},
          "output_type": "execute_result"
        }
      ],
      "source": [
        "lr.fit(scaled_X_train,y_train)"
      ]
    },
    {
      "cell_type": "code",
      "execution_count": 56,
      "metadata": {
        "id": "nscX5KJrowi5"
      },
      "outputs": [
        {
          "data": {
            "text/plain": [
              "array([9240.25630518, 9295.79014385, 9312.60301355, ..., 9338.6489943 ,\n",
              "       9325.15752841, 9327.22593956])"
            ]
          },
          "execution_count": 56,
          "metadata": {},
          "output_type": "execute_result"
        }
      ],
      "source": [
        "predslr=lr.predict(scaled_X_test)\n",
        "predslr"
      ]
    },
    {
      "cell_type": "code",
      "execution_count": 57,
      "metadata": {
        "id": "Z6ScoWCgowi5"
      },
      "outputs": [
        {
          "name": "stdout",
          "output_type": "stream",
          "text": [
            "Mean absolute error on model is 4063.132916456184\n",
            "Mean squared error on model is 5137.890387876068\n"
          ]
        }
      ],
      "source": [
        "modelresults(predslr)"
      ]
    },
    {
      "cell_type": "code",
      "execution_count": 58,
      "metadata": {
        "id": "ylnC1-YJowi6"
      },
      "outputs": [],
      "source": [
        "from sklearn.svm import SVR\n",
        "from sklearn.model_selection import GridSearchCV\n",
        "svrmodel= SVR()"
      ]
    },
    {
      "cell_type": "code",
      "execution_count": 62,
      "metadata": {
        "id": "14u6nSkSowi6"
      },
      "outputs": [],
      "source": [
        "param_gridsvr={\"C\": [0.01,0.1,0.5],\"kernel\":[\"linear\",\"rbf\",\"poky\"],\"gamma\":[\"scale\",\"auto\"],\"degree\":[2,3,4,5]}"
      ]
    },
    {
      "cell_type": "code",
      "execution_count": 63,
      "metadata": {
        "id": "1WF1chuIowi6"
      },
      "outputs": [],
      "source": [
        "gridsvr= GridSearchCV(svrmodel,param_gridsvr)"
      ]
    },
    {
      "cell_type": "code",
      "execution_count": 64,
      "metadata": {
        "id": "FRPLkmdcowi6"
      },
      "outputs": [],
      "source": [
        "gridsvr.fit(scaled_X_train,y_train)"
      ]
    },
    {
      "cell_type": "code",
      "execution_count": null,
      "metadata": {
        "id": "RY8rUUXrowi6"
      },
      "outputs": [],
      "source": [
        "print(\"Best parameters  for model is {}\".format(gridsvr.best_params))"
      ]
    },
    {
      "cell_type": "code",
      "execution_count": null,
      "metadata": {
        "id": "hRgalllsowi6"
      },
      "outputs": [],
      "source": [
        "predsgridsvr= gridsvr.predict(scaled_X_test)"
      ]
    },
    {
      "cell_type": "code",
      "execution_count": null,
      "metadata": {
        "id": "ZIJeTRE7owi6"
      },
      "outputs": [],
      "source": [
        "modelresults(predsgridsvr)"
      ]
    },
    {
      "cell_type": "code",
      "execution_count": null,
      "metadata": {
        "id": "0S9u5yYUowi6"
      },
      "outputs": [],
      "source": [
        "from sklearn.ensemble import RandomForestRegressor\n",
        "rfrmodel= RandomForestRegressor()"
      ]
    },
    {
      "cell_type": "code",
      "execution_count": null,
      "metadata": {
        "id": "X1guvXXrowi7"
      },
      "outputs": [],
      "source": [
        "param_gridrfr= {\"bootstrap\":[True],\"max_depth\":[5,10,15],\"max_features\":[\"auto\",\"log2\"],\"n_estimators\":[3,4,5,6,7]}"
      ]
    },
    {
      "cell_type": "code",
      "execution_count": null,
      "metadata": {
        "id": "TJVdaan2owi9"
      },
      "outputs": [],
      "source": [
        "gridrfr=GridSearchCV(rfrmodel,param_gridrfr)"
      ]
    },
    {
      "cell_type": "code",
      "execution_count": null,
      "metadata": {
        "id": "dYesCGx0owi9"
      },
      "outputs": [],
      "source": [
        "gridrfr.fit(scaled_X_train,y_train)"
      ]
    },
    {
      "cell_type": "code",
      "execution_count": null,
      "metadata": {
        "id": "fmle9w0Rowi9"
      },
      "outputs": [],
      "source": [
        "print(\"Best parameters for model is {}\".format(gridrfr.best_params_))"
      ]
    },
    {
      "cell_type": "code",
      "execution_count": null,
      "metadata": {
        "id": "p5nYImjPowi9"
      },
      "outputs": [],
      "source": [
        "predsgridrfr=gridrfr.predict(scaled_X_test)"
      ]
    },
    {
      "cell_type": "code",
      "execution_count": null,
      "metadata": {
        "id": "0gPQFsQqowi-"
      },
      "outputs": [],
      "source": [
        "modelresults(predsgridrfr)"
      ]
    }
  ],
  "metadata": {
    "colab": {
      "provenance": []
    },
    "kernelspec": {
      "display_name": "Python 3",
      "language": "python",
      "name": "python3"
    },
    "language_info": {
      "codemirror_mode": {
        "name": "ipython",
        "version": 3
      },
      "file_extension": ".py",
      "mimetype": "text/x-python",
      "name": "python",
      "nbconvert_exporter": "python",
      "pygments_lexer": "ipython3",
      "version": "3.11.8"
    }
  },
  "nbformat": 4,
  "nbformat_minor": 0
}
